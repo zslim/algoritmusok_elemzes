{
 "cells": [
  {
   "cell_type": "markdown",
   "id": "0cb9dcec",
   "metadata": {},
   "source": [
    "# Algoritmusok elemző összehasonlítása\n",
    "\n",
    "Limbek Zsófia munkája\n",
    "\n",
    "## 1. Bevezetés\n",
    "\n",
    "Dolgozatomban az Eszterházy Károly Egyetem LBT_PI212G3 kódú, Adatszerkezetek és algoritmusok gy. tárgyából tanult algoritmusokat elemzem. Az implementációk mellett különböző bemenetekkel mért futásidőket is bemutatok, illetve összehasonlítom az azonos célra használt különböző algoritmusokat.\n",
    "\n",
    "Az algoritmusok implementálásához, a futásidők méréséhez, az adatok összegyűjtéséhez és ábrázolásához a `Python 3` programnyelvet használtam (verzió: `3.8`). A teljes kód megtalálható a [ebben](https://github.com/zslim/algoritmusok_elemzes) a GitHub repóban, a dolgozatba csak a szemléletes részeket illesztem be.\n",
    "\n",
    "A bemutatott algoritmusokat random számokkal feltöltött listákra futtattam le az alábbi módon.\n",
    "A bemenő listák elemszámát 1000-től indulva, ezrenként lépve, 10000-ig emeltem.\n",
    "Minden elemszámra több futtatást végeztem.\n",
    "A metszet és unió algoritmusok esetében ez a szám, a futás hossúsága miatt 10 (az unió 20 perc alatt futott le minden inputra), a többi algoritmusnál felemeltem 100-ra.\n",
    "Minden futtatásnál új random bemenetet generáltam.\n",
    "Ahol két bemenő lista van, ott mindkettőnek változtattam az elemszámát, de, szintén a hosszú futásidő miatt, mindig úgy, hogy az első sorozat elemszáma kisebb vagy egyenlő a másodikéval.\n",
    "Ez aggályos lehet, mivel sem a metszet, sem az unió algoritmusa nem szimmetrikus a paraméterekre nézve."
   ]
  },
  {
   "cell_type": "markdown",
   "id": "97b63166",
   "metadata": {},
   "source": [
    "## 2. Alap algoritmusok\n",
    "\n",
    "Ebben a részben a metszet, az unió és az összefuttatás algoritmusokat mutatom be.\n",
    "Ezek közös jellemzője, hogy két sorozatot fogadnak paraméterként, és egy sorozattal térnek vissza.\n",
    "\n",
    "A metszettel és az unióval kapcsolatban megjegyzem, hogy bár a nevüket ezek az algoritmusok a megfelelő halmazelméleti műveletekről kapták, az alábbi implementációk kihasználják a két bemenő sorozat indexelhetőségét, ezért ezek nem lehetnek halmaz (`set`) típusúak a programban.\n",
    "\n",
    "Mindkettő implementációjához használtam azt az algoritmust, aminek a segítségével eldönthető, hogy egy sorozat tartalmaz-e egy elemet:"
   ]
  },
  {
   "cell_type": "code",
   "execution_count": 2,
   "id": "beca9594",
   "metadata": {},
   "outputs": [],
   "source": [
    "def _does_include(array, element):\n",
    "    i = 0\n",
    "    while i < len(array) and element != array[i]:\n",
    "        i += 1\n",
    "    return i < len(array)"
   ]
  },
  {
   "cell_type": "markdown",
   "id": "d1258656",
   "metadata": {},
   "source": [
    "### 2. 1. Metszet\n",
    "\n",
    "Az alábbi egyszerű metszet algoritmus végigiterál az első paraméteren (`a`), és mindegyik elemnél megvizsgálja, hogy a másik sorozat (`b`) tartalmazza-e azt az elemet.\n",
    "Ha igen, az adott elem bekerül a metszetbe.\n",
    "Mivel a tartalmazás eldöntéséhez végig kell iterálni a `b`-n, az algoritmus egymásba ágyazott ciklusokat tartalmaz, "
   ]
  },
  {
   "cell_type": "code",
   "execution_count": null,
   "id": "f1ce1f02",
   "metadata": {},
   "outputs": [],
   "source": [
    "def intersection(array1, array2):\n",
    "    result = []\n",
    "    for element in array1:\n",
    "        if _does_include(array2, element):\n",
    "            result.append(element)\n",
    "    return result"
   ]
  }
 ],
 "metadata": {
  "kernelspec": {
   "display_name": "Python 3",
   "language": "python",
   "name": "python3"
  },
  "language_info": {
   "codemirror_mode": {
    "name": "ipython",
    "version": 3
   },
   "file_extension": ".py",
   "mimetype": "text/x-python",
   "name": "python",
   "nbconvert_exporter": "python",
   "pygments_lexer": "ipython3",
   "version": "3.8.5"
  }
 },
 "nbformat": 4,
 "nbformat_minor": 5
}
